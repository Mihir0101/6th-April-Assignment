{
 "cells": [
  {
   "cell_type": "markdown",
   "id": "f317e586-d390-418c-baa3-0ddb2043e4ff",
   "metadata": {},
   "source": [
    "# 6th April Assignment"
   ]
  },
  {
   "cell_type": "code",
   "execution_count": null,
   "id": "5300b5c7-b3f8-4dd6-bc19-86e3000bd5c2",
   "metadata": {},
   "outputs": [],
   "source": []
  },
  {
   "cell_type": "markdown",
   "id": "7589f281-b199-4bd4-85ee-9b0f99b6a898",
   "metadata": {},
   "source": [
    "## Q1. What is the mathematical formula for a linear SVM?"
   ]
  },
  {
   "cell_type": "markdown",
   "id": "c9795c7f-db46-425a-af72-4ec9573f9fb5",
   "metadata": {},
   "source": [
    "* SVC\n",
    "\n",
    "Best Fit Line - WT * X + b = 0\n",
    "\n",
    "Marginal Line - WT * X + b = -1 and WT * X + b = +1\n",
    "\n",
    "* SVR\n",
    "\n",
    "Best Fit Line - WT * X + b = 0\n",
    "\n",
    "Marginal Line - WT * X + b - ɛ and WT * X + b + ɛ"
   ]
  },
  {
   "cell_type": "code",
   "execution_count": null,
   "id": "5abcb826-3d09-4c8a-b2e4-f7f30ac1ea09",
   "metadata": {},
   "outputs": [],
   "source": []
  },
  {
   "cell_type": "markdown",
   "id": "74380b21-2a41-40b5-873f-2bd0af521beb",
   "metadata": {},
   "source": [
    "## Q2. What is the objective function of a linear SVM?"
   ]
  },
  {
   "cell_type": "markdown",
   "id": "443468c1-8a16-4728-9c54-4f77bcbe7e29",
   "metadata": {},
   "source": [
    "- > The objectice function of linear SVM is to create marginal planes that saperates the different classes.That marginal plane pass through the nearest datapoint to the best fit line.Out main goal is to miximizing the distance between two marginal plane by this formula.\n",
    "\n",
    "Formula : 2 / || W || + Ci Σ ηi"
   ]
  },
  {
   "cell_type": "code",
   "execution_count": null,
   "id": "f20d0314-36db-400f-95dd-d4ace74f52c9",
   "metadata": {},
   "outputs": [],
   "source": []
  },
  {
   "cell_type": "markdown",
   "id": "76676aae-1b2d-41f5-b02a-556c12dc17c4",
   "metadata": {},
   "source": [
    "## Q3. What is the kernel trick in SVM?"
   ]
  },
  {
   "cell_type": "markdown",
   "id": "bf3546b1-1576-45cb-9c06-b21b20fc2c70",
   "metadata": {},
   "source": [
    "- > There is a different types of kernel in SVM.\n",
    "\n",
    "1. Linear\n",
    "\n",
    "2. Polynomial\n",
    "\n",
    "3. Sigmoid\n",
    "\n",
    "4. RBF\n",
    "\n",
    "- > This kernels help to create best fit line according to the relationship of the datapoints.\n",
    "\n",
    "- > We can try all kernels with the help of hyperparameter tuning and find our best accurate model."
   ]
  },
  {
   "cell_type": "code",
   "execution_count": null,
   "id": "d8d9c96e-7929-46ad-bc49-c98da3cfe6ac",
   "metadata": {},
   "outputs": [],
   "source": []
  },
  {
   "cell_type": "markdown",
   "id": "80a27e58-04a8-4fd7-badb-58b106a2b184",
   "metadata": {},
   "source": [
    "## Q4. What is the role of support vectors in SVM Explain with example."
   ]
  },
  {
   "cell_type": "markdown",
   "id": "eea90916-c302-457f-9d3b-fea7770e8267",
   "metadata": {},
   "source": [
    "- > Support vectors are the datapoints that nearest to the best fit line.\n",
    "\n",
    "- > They help to create marginal line.\n",
    "\n",
    "- > This points can be either lie on margin or are misclassified.\n",
    "\n",
    "- > Objective of the SVM is to maximize the margine."
   ]
  },
  {
   "cell_type": "code",
   "execution_count": null,
   "id": "07d3ca39-5519-4d2a-86b0-5f49da477d5a",
   "metadata": {},
   "outputs": [],
   "source": []
  },
  {
   "cell_type": "markdown",
   "id": "6e5966ab-fbad-4574-8d69-3a52c3fa4049",
   "metadata": {},
   "source": [
    "## Q5. Illustrate with examples and graphs of Hyperplane, Marginal plane, Soft margin and Hard margin in SVM?"
   ]
  },
  {
   "cell_type": "code",
   "execution_count": null,
   "id": "fc413934-81e7-4b03-9c27-eecc630cbda8",
   "metadata": {},
   "outputs": [],
   "source": []
  },
  {
   "cell_type": "markdown",
   "id": "fa1efae7-c2b5-42cc-957f-050dc64bbc39",
   "metadata": {},
   "source": [
    "## Hyperplane \n",
    "\n",
    "- > Hyperplane is a dicision boundary that saperates the datapoints into SVM.\n",
    "\n",
    "- > In two dimension it is line and in multi-dimension it is plane."
   ]
  },
  {
   "cell_type": "code",
   "execution_count": 17,
   "id": "02c01dd2-4b8e-4858-9f4e-633537f82451",
   "metadata": {},
   "outputs": [],
   "source": [
    "import pandas as pd\n",
    "import numpy as np\n",
    "import matplotlib.pyplot as plt"
   ]
  },
  {
   "cell_type": "code",
   "execution_count": 18,
   "id": "546cf09e-5740-4809-8256-a392ea84df7f",
   "metadata": {},
   "outputs": [],
   "source": [
    "class1 = np.random.randn(50,2) + [2,2]\n",
    "class2 = np.random.randn(50,2) - [2,2]"
   ]
  },
  {
   "cell_type": "code",
   "execution_count": 24,
   "id": "b8acd25f-7dd6-4bfa-9781-2a6ce976066d",
   "metadata": {},
   "outputs": [
    {
     "data": {
      "text/plain": [
       "[<matplotlib.lines.Line2D at 0x7f03aaee4130>]"
      ]
     },
     "execution_count": 24,
     "metadata": {},
     "output_type": "execute_result"
    },
    {
     "data": {
      "image/png": "[encoded data removed]",
      "text/plain": [
       "<Figure size 640x480 with 1 Axes>"
      ]
     },
     "metadata": {},
     "output_type": "display_data"
    }
   ],
   "source": [
    "plt.scatter(class1[:,0],class1[:,1],c='yellow',label='Class1')\n",
    "plt.scatter(class2[:,0],class2[:,1],c='blue',label='class2')\n",
    "\n",
    "x_values = np.linspace(-4,4,100)\n",
    "y_values = -x_values\n",
    "\n",
    "plt.plot(x_values,y_values,color='#e10e43')"
   ]
  },
  {
   "cell_type": "markdown",
   "id": "997928a4-208d-4e23-9c31-a1045609871a",
   "metadata": {},
   "source": [
    "## Marginal Plane\n",
    "\n",
    "- > This marginal plane creat through support vectors.\n",
    "\n",
    "- > It help to predict the output.\n",
    "\n",
    "- > We have to maximize the margin between marginal plane.\n",
    "\n",
    "## Soft Margin\n",
    "\n",
    "- > In soft margin SVM some datapoints are allowed to be on wrong side of the marginal plan and hyperplane.\n",
    "\n",
    "## Hard Margin\n",
    "\n",
    "- > In hard margin SVM any datapoints are not allowed to be on wrong side of the marginal plane or hyperplane."
   ]
  },
  {
   "cell_type": "code",
   "execution_count": null,
   "id": "f9eba3aa-8467-4e79-ad6e-398136a8b016",
   "metadata": {},
   "outputs": [],
   "source": []
  },
  {
   "cell_type": "markdown",
   "id": "6fb5b577-c121-4da1-946a-e90ebbd44965",
   "metadata": {},
   "source": [
    "## Q6. SVM Implementation through Iris dataset."
   ]
  },
  {
   "cell_type": "code",
   "execution_count": 30,
   "id": "baeae745-4f3c-4393-8ab7-93cd90b713c9",
   "metadata": {},
   "outputs": [],
   "source": [
    "import pandas as pd\n",
    "import seaborn as sns\n",
    "import numpy as np"
   ]
  },
  {
   "cell_type": "code",
   "execution_count": 33,
   "id": "fba4f2c6-6df0-41e0-a381-af2bc834df2f",
   "metadata": {},
   "outputs": [],
   "source": [
    "df = sns.load_dataset('iris')"
   ]
  },
  {
   "cell_type": "code",
   "execution_count": 34,
   "id": "0bea5fd3-35ed-496d-9c11-0b6d6ffb877d",
   "metadata": {},
   "outputs": [
    {
     "data": {
      "text/html": [
       "<div>\n",
       "<style scoped>\n",
       "    .dataframe tbody tr th:only-of-type {\n",
       "        vertical-align: middle;\n",
       "    }\n",
       "\n",
       "    .dataframe tbody tr th {\n",
       "        vertical-align: top;\n",
       "    }\n",
       "\n",
       "    .dataframe thead th {\n",
       "        text-align: right;\n",
       "    }\n",
       "</style>\n",
       "<table border=\"1\" class=\"dataframe\">\n",
       "  <thead>\n",
       "    <tr style=\"text-align: right;\">\n",
       "      <th></th>\n",
       "      <th>sepal_length</th>\n",
       "      <th>sepal_width</th>\n",
       "      <th>petal_length</th>\n",
       "      <th>petal_width</th>\n",
       "      <th>species</th>\n",
       "    </tr>\n",
       "  </thead>\n",
       "  <tbody>\n",
       "    <tr>\n",
       "      <th>0</th>\n",
       "      <td>5.1</td>\n",
       "      <td>3.5</td>\n",
       "      <td>1.4</td>\n",
       "      <td>0.2</td>\n",
       "      <td>setosa</td>\n",
       "    </tr>\n",
       "    <tr>\n",
       "      <th>1</th>\n",
       "      <td>4.9</td>\n",
       "      <td>3.0</td>\n",
       "      <td>1.4</td>\n",
       "      <td>0.2</td>\n",
       "      <td>setosa</td>\n",
       "    </tr>\n",
       "    <tr>\n",
       "      <th>2</th>\n",
       "      <td>4.7</td>\n",
       "      <td>3.2</td>\n",
       "      <td>1.3</td>\n",
       "      <td>0.2</td>\n",
       "      <td>setosa</td>\n",
       "    </tr>\n",
       "    <tr>\n",
       "      <th>3</th>\n",
       "      <td>4.6</td>\n",
       "      <td>3.1</td>\n",
       "      <td>1.5</td>\n",
       "      <td>0.2</td>\n",
       "      <td>setosa</td>\n",
       "    </tr>\n",
       "    <tr>\n",
       "      <th>4</th>\n",
       "      <td>5.0</td>\n",
       "      <td>3.6</td>\n",
       "      <td>1.4</td>\n",
       "      <td>0.2</td>\n",
       "      <td>setosa</td>\n",
       "    </tr>\n",
       "  </tbody>\n",
       "</table>\n",
       "</div>"
      ],
      "text/plain": [
       "   sepal_length  sepal_width  petal_length  petal_width species\n",
       "0           5.1          3.5           1.4          0.2  setosa\n",
       "1           4.9          3.0           1.4          0.2  setosa\n",
       "2           4.7          3.2           1.3          0.2  setosa\n",
       "3           4.6          3.1           1.5          0.2  setosa\n",
       "4           5.0          3.6           1.4          0.2  setosa"
      ]
     },
     "execution_count": 34,
     "metadata": {},
     "output_type": "execute_result"
    }
   ],
   "source": [
    "df.head()"
   ]
  },
  {
   "cell_type": "code",
   "execution_count": 35,
   "id": "f48b5627-3b1d-4014-9118-064771cf08e1",
   "metadata": {},
   "outputs": [
    {
     "data": {
      "text/plain": [
       "array(['setosa', 'versicolor', 'virginica'], dtype=object)"
      ]
     },
     "execution_count": 35,
     "metadata": {},
     "output_type": "execute_result"
    }
   ],
   "source": [
    "df.species.unique()"
   ]
  },
  {
   "cell_type": "code",
   "execution_count": 36,
   "id": "73170238-03df-42ce-b061-a8f0b7e3ca3d",
   "metadata": {},
   "outputs": [],
   "source": [
    "df['species'] = df['species'].str.replace('setosa','1')\n",
    "df['species'] = df['species'].str.replace('versicolor','2')\n",
    "df['species'] = df['species'].str.replace('virginica','3')"
   ]
  },
  {
   "cell_type": "code",
   "execution_count": 38,
   "id": "658f86c0-ee01-4f9c-8002-df91f37763e8",
   "metadata": {},
   "outputs": [
    {
     "data": {
      "text/plain": [
       "0      1\n",
       "1      1\n",
       "2      1\n",
       "3      1\n",
       "4      1\n",
       "      ..\n",
       "145    3\n",
       "146    3\n",
       "147    3\n",
       "148    3\n",
       "149    3\n",
       "Name: species, Length: 150, dtype: int64"
      ]
     },
     "execution_count": 38,
     "metadata": {},
     "output_type": "execute_result"
    }
   ],
   "source": [
    "df['species'].astype(int)"
   ]
  },
  {
   "cell_type": "code",
   "execution_count": 41,
   "id": "7d97d631-ae26-4827-b758-f9f3fb91313c",
   "metadata": {},
   "outputs": [],
   "source": [
    "x = df.iloc[:,:-1]\n",
    "y = df.species"
   ]
  },
  {
   "cell_type": "code",
   "execution_count": 43,
   "id": "0ec0b029-608d-4324-b6c9-2f08481510a0",
   "metadata": {},
   "outputs": [],
   "source": [
    "from sklearn.model_selection import train_test_split"
   ]
  },
  {
   "cell_type": "code",
   "execution_count": 44,
   "id": "15ef5537-a612-42dc-8b9c-7bff1923c172",
   "metadata": {},
   "outputs": [],
   "source": [
    "x_train,x_test,y_train,y_test = train_test_split(x,y,test_size=0.33,random_state=42)"
   ]
  },
  {
   "cell_type": "code",
   "execution_count": 45,
   "id": "234c2fd3-e42e-46a1-b2a8-04bdcb24e055",
   "metadata": {},
   "outputs": [],
   "source": [
    "from sklearn.preprocessing import StandardScaler"
   ]
  },
  {
   "cell_type": "code",
   "execution_count": 46,
   "id": "4dff5dc6-0d20-43c6-88b3-830827c6857f",
   "metadata": {},
   "outputs": [],
   "source": [
    "scaler = StandardScaler()"
   ]
  },
  {
   "cell_type": "code",
   "execution_count": 47,
   "id": "33730750-da79-4935-88a4-19e3eb42adc6",
   "metadata": {},
   "outputs": [],
   "source": [
    "x_train = scaler.fit_transform(x_train)\n",
    "x_test = scaler.transform(x_test)"
   ]
  },
  {
   "cell_type": "code",
   "execution_count": 48,
   "id": "e1139a9c-7c12-460a-92e2-45113490d677",
   "metadata": {},
   "outputs": [],
   "source": [
    "from sklearn.svm import SVC"
   ]
  },
  {
   "cell_type": "code",
   "execution_count": 49,
   "id": "95bfb0f7-0a59-401f-a196-537bf7716275",
   "metadata": {},
   "outputs": [],
   "source": [
    "svc = SVC()"
   ]
  },
  {
   "cell_type": "code",
   "execution_count": 50,
   "id": "63c3f5c7-3de0-45f9-8601-2ce238282000",
   "metadata": {},
   "outputs": [
    {
     "data": {
      "text/html": [
       "<style>#sk-container-id-1 {color: black;background-color: white;}#sk-container-id-1 pre{padding: 0;}#sk-container-id-1 div.sk-toggleable {background-color: white;}#sk-container-id-1 label.sk-toggleable__label {cursor: pointer;display: block;width: 100%;margin-bottom: 0;padding: 0.3em;box-sizing: border-box;text-align: center;}#sk-container-id-1 label.sk-toggleable__label-arrow:before {content: \"▸\";float: left;margin-right: 0.25em;color: #696969;}#sk-container-id-1 label.sk-toggleable__label-arrow:hover:before {color: black;}#sk-container-id-1 div.sk-estimator:hover label.sk-toggleable__label-arrow:before {color: black;}#sk-container-id-1 div.sk-toggleable__content {max-height: 0;max-width: 0;overflow: hidden;text-align: left;background-color: #f0f8ff;}#sk-container-id-1 div.sk-toggleable__content pre {margin: 0.2em;color: black;border-radius: 0.25em;background-color: #f0f8ff;}#sk-container-id-1 input.sk-toggleable__control:checked~div.sk-toggleable__content {max-height: 200px;max-width: 100%;overflow: auto;}#sk-container-id-1 input.sk-toggleable__control:checked~label.sk-toggleable__label-arrow:before {content: \"▾\";}#sk-container-id-1 div.sk-estimator input.sk-toggleable__control:checked~label.sk-toggleable__label {background-color: #d4ebff;}#sk-container-id-1 div.sk-label input.sk-toggleable__control:checked~label.sk-toggleable__label {background-color: #d4ebff;}#sk-container-id-1 input.sk-hidden--visually {border: 0;clip: rect(1px 1px 1px 1px);clip: rect(1px, 1px, 1px, 1px);height: 1px;margin: -1px;overflow: hidden;padding: 0;position: absolute;width: 1px;}#sk-container-id-1 div.sk-estimator {font-family: monospace;background-color: #f0f8ff;border: 1px dotted black;border-radius: 0.25em;box-sizing: border-box;margin-bottom: 0.5em;}#sk-container-id-1 div.sk-estimator:hover {background-color: #d4ebff;}#sk-container-id-1 div.sk-parallel-item::after {content: \"\";width: 100%;border-bottom: 1px solid gray;flex-grow: 1;}#sk-container-id-1 div.sk-label:hover label.sk-toggleable__label {background-color: #d4ebff;}#sk-container-id-1 div.sk-serial::before {content: \"\";position: absolute;border-left: 1px solid gray;box-sizing: border-box;top: 0;bottom: 0;left: 50%;z-index: 0;}#sk-container-id-1 div.sk-serial {display: flex;flex-direction: column;align-items: center;background-color: white;padding-right: 0.2em;padding-left: 0.2em;position: relative;}#sk-container-id-1 div.sk-item {position: relative;z-index: 1;}#sk-container-id-1 div.sk-parallel {display: flex;align-items: stretch;justify-content: center;background-color: white;position: relative;}#sk-container-id-1 div.sk-item::before, #sk-container-id-1 div.sk-parallel-item::before {content: \"\";position: absolute;border-left: 1px solid gray;box-sizing: border-box;top: 0;bottom: 0;left: 50%;z-index: -1;}#sk-container-id-1 div.sk-parallel-item {display: flex;flex-direction: column;z-index: 1;position: relative;background-color: white;}#sk-container-id-1 div.sk-parallel-item:first-child::after {align-self: flex-end;width: 50%;}#sk-container-id-1 div.sk-parallel-item:last-child::after {align-self: flex-start;width: 50%;}#sk-container-id-1 div.sk-parallel-item:only-child::after {width: 0;}#sk-container-id-1 div.sk-dashed-wrapped {border: 1px dashed gray;margin: 0 0.4em 0.5em 0.4em;box-sizing: border-box;padding-bottom: 0.4em;background-color: white;}#sk-container-id-1 div.sk-label label {font-family: monospace;font-weight: bold;display: inline-block;line-height: 1.2em;}#sk-container-id-1 div.sk-label-container {text-align: center;}#sk-container-id-1 div.sk-container {/* jupyter's `normalize.less` sets `[hidden] { display: none; }` but bootstrap.min.css set `[hidden] { display: none !important; }` so we also need the `!important` here to be able to override the default hidden behavior on the sphinx rendered scikit-learn.org. See: https://github.com/scikit-learn/scikit-learn/issues/21755 */display: inline-block !important;position: relative;}#sk-container-id-1 div.sk-text-repr-fallback {display: none;}</style><div id=\"sk-container-id-1\" class=\"sk-top-container\"><div class=\"sk-text-repr-fallback\"><pre>SVC()</pre><b>In a Jupyter environment, please rerun this cell to show the HTML representation or trust the notebook. <br />On GitHub, the HTML representation is unable to render, please try loading this page with nbviewer.org.</b></div><div class=\"sk-container\" hidden><div class=\"sk-item\"><div class=\"sk-estimator sk-toggleable\"><input class=\"sk-toggleable__control sk-hidden--visually\" id=\"sk-estimator-id-1\" type=\"checkbox\" checked><label for=\"sk-estimator-id-1\" class=\"sk-toggleable__label sk-toggleable__label-arrow\">SVC</label><div class=\"sk-toggleable__content\"><pre>SVC()</pre></div></div></div></div></div>"
      ],
      "text/plain": [
       "SVC()"
      ]
     },
     "execution_count": 50,
     "metadata": {},
     "output_type": "execute_result"
    }
   ],
   "source": [
    "svc.fit(x_train,y_train)"
   ]
  },
  {
   "cell_type": "code",
   "execution_count": 51,
   "id": "eac9d357-0b31-451e-a6a5-22e4977c1513",
   "metadata": {},
   "outputs": [],
   "source": [
    "y_predicted = svc.predict(x_test)"
   ]
  },
  {
   "cell_type": "code",
   "execution_count": 52,
   "id": "95b3fd70-bf3e-466b-b221-17b818fce138",
   "metadata": {},
   "outputs": [
    {
     "data": {
      "text/plain": [
       "array(['2', '1', '3', '2', '2', '1', '2', '3', '2', '2', '3', '1', '1',\n",
       "       '1', '1', '2', '3', '2', '2', '3', '1', '3', '1', '3', '3', '3',\n",
       "       '3', '3', '1', '1', '1', '1', '2', '1', '1', '3', '2', '1', '1',\n",
       "       '1', '3', '2', '2', '1', '1', '2', '2', '3', '2', '3'],\n",
       "      dtype=object)"
      ]
     },
     "execution_count": 52,
     "metadata": {},
     "output_type": "execute_result"
    }
   ],
   "source": [
    "y_predicted"
   ]
  },
  {
   "cell_type": "code",
   "execution_count": 53,
   "id": "284b6084-f0ac-4ecd-8b87-0a0b2e17c248",
   "metadata": {},
   "outputs": [],
   "source": [
    "from sklearn.metrics import accuracy_score"
   ]
  },
  {
   "cell_type": "code",
   "execution_count": 54,
   "id": "70aad3b3-7cde-4282-b844-eb2dcd9536fe",
   "metadata": {},
   "outputs": [
    {
     "name": "stdout",
     "output_type": "stream",
     "text": [
      "0.98\n"
     ]
    }
   ],
   "source": [
    "print(accuracy_score(y_test,y_predicted))"
   ]
  },
  {
   "cell_type": "code",
   "execution_count": null,
   "id": "a9828730-c963-496d-960d-ea67287013e3",
   "metadata": {},
   "outputs": [],
   "source": []
  }
 ],
 "metadata": {
  "kernelspec": {
   "display_name": "Python 3 (ipykernel)",
   "language": "python",
   "name": "python3"
  },
  "language_info": {
   "codemirror_mode": {
    "name": "ipython",
    "version": 3
   },
   "file_extension": ".py",
   "mimetype": "text/x-python",
   "name": "python",
   "nbconvert_exporter": "python",
   "pygments_lexer": "ipython3",
   "version": "3.10.8"
  }
 },
 "nbformat": 4,
 "nbformat_minor": 5
}
